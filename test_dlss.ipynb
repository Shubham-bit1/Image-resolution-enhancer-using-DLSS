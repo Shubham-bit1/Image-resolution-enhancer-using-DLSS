{
 "metadata": {
  "language_info": {
   "codemirror_mode": {
    "name": "ipython",
    "version": 3
   },
   "file_extension": ".py",
   "mimetype": "text/x-python",
   "name": "python",
   "nbconvert_exporter": "python",
   "pygments_lexer": "ipython3",
   "version": "3.8.8"
  },
  "orig_nbformat": 2,
  "kernelspec": {
   "name": "python388jvsc74a57bd01baa965d5efe3ac65b79dfc60c0d706280b1da80fedb7760faf2759126c4f253",
   "display_name": "Python 3.8.8 64-bit"
  },
  "metadata": {
   "interpreter": {
    "hash": "1baa965d5efe3ac65b79dfc60c0d706280b1da80fedb7760faf2759126c4f253"
   }
  }
 },
 "nbformat": 4,
 "nbformat_minor": 2,
 "cells": [
  {
   "cell_type": "code",
   "execution_count": null,
   "metadata": {},
   "outputs": [],
   "source": [
    "import os\n",
    "from PIL import Image\n",
    "import numpy as np\n",
    "import matplotlib.pyplot as plt\n",
    "from matplotlib.pyplot import imshow\n",
    "from keras.models import load_model"
   ]
  },
  {
   "cell_type": "code",
   "execution_count": null,
   "metadata": {},
   "outputs": [],
   "source": [
    "# Dimensions of the images inside the dataset.\n",
    "input_dimensions = (128,128,3)\n",
    "\n",
    "# Dimensions of the images inside the dataset.\n",
    "output_dimensions = (256,256,3)\n",
    "\n",
    "# The ratio of the difference in size of the two images. Used for setting ratio of image subplots\n",
    "super_sampling_ratio = int(output_dimensions[0] / input_dimensions[0])\n",
    "\n",
    "# Path to saved .h5 model\n",
    "model_path = r'DLSS_results\\generator90.h5'\n",
    "\n",
    "# Path to folder containing images to super sample\n",
    "dataset_path = r'uploads'\n",
    "\n",
    "# Folder where you want to save to model as well as generated samples\n",
    "save_path = r'outputs'\n",
    "\n",
    "# Boolean flag, set to True if the data has pngs to remove alpha layer from images\n",
    "png = True"
   ]
  },
  {
   "cell_type": "code",
   "execution_count": null,
   "metadata": {},
   "outputs": [],
   "source": [
    "model = load_model(model_path)"
   ]
  },
  {
   "cell_type": "code",
   "execution_count": null,
   "metadata": {},
   "outputs": [],
   "source": [
    "paths = []\n",
    "count = 0\n",
    "\n",
    "for r, d, f in os.walk(dataset_path):\n",
    "    for file in f:\n",
    "        if '.png' in file or 'jpg' in file:\n",
    "            paths.append(os.path.join(r, file))\n",
    "\n",
    "for path in paths:\n",
    "    \n",
    "    # Select image\n",
    "    img = Image.open(path)\n",
    "\n",
    "    #create plot\n",
    "    f, axarr = plt.subplots(1,3,figsize=(15,15),gridspec_kw={'width_ratios': [1,super_sampling_ratio,super_sampling_ratio]})\n",
    "    axarr[0].set_xlabel('Original Image (' + str(input_dimensions[0]) + 'x' + str(input_dimensions[1]) + ')', fontsize=10)\n",
    "    axarr[1].set_xlabel('Interpolated Image (' + str(output_dimensions[0]) + 'x' + str(output_dimensions[1]) + ')', fontsize=10)\n",
    "    axarr[2].set_xlabel('Super Sampled Image (' + str(output_dimensions[0]) + 'x' + str(output_dimensions[1]) + ')', fontsize=10)\n",
    "\n",
    "    #original image\n",
    "    x = img.resize((input_dimensions[0],input_dimensions[1]))\n",
    "    \n",
    "    #interpolated (resized) image\n",
    "    y = x.resize((output_dimensions[0],output_dimensions[1]))\n",
    "    \n",
    "    \n",
    "    x = np.array(x)\n",
    "    y = np.array(y)\n",
    "    \n",
    "    # Remove alpha layer if imgaes are PNG\n",
    "    if(png):\n",
    "        x = x[...,:3]\n",
    "        y = y[...,:3]\n",
    "    \n",
    "    #plotting first two images\n",
    "    axarr[0].imshow(x)\n",
    "    axarr[1].imshow(y)\n",
    "    \n",
    "    #plotting super sampled image\n",
    "    x = x.reshape(1,input_dimensions[0],input_dimensions[1],input_dimensions[2])/255\n",
    "    result = np.array(model.predict_on_batch(x))*255\n",
    "    result = result.reshape(output_dimensions[0],output_dimensions[1],output_dimensions[2])\n",
    "    np.clip(result, 0, 255, out=result)\n",
    "    result = result.astype('uint8')\n",
    "                \n",
    "    axarr[2].imshow(result)\n",
    "    \n",
    "    # Save image\n",
    "    f.savefig(save_path + '\\\\frame_%d.png' % count)\n",
    "    \n",
    "    # Increment file name counter\n",
    "    count = count + 1"
   ]
  },
  {
   "cell_type": "code",
   "execution_count": 1,
   "metadata": {},
   "outputs": [],
   "source": [
    "import tensorflowjs as tfjs"
   ]
  },
  {
   "cell_type": "code",
   "execution_count": 3,
   "metadata": {},
   "outputs": [],
   "source": [
    "model = tfjs.converters.load_keras_model(\"DLSS_results\\model.json\")\n",
    "model.save(\"model.h5\")"
   ]
  },
  {
   "cell_type": "code",
   "execution_count": null,
   "metadata": {},
   "outputs": [],
   "source": []
  }
 ]
}