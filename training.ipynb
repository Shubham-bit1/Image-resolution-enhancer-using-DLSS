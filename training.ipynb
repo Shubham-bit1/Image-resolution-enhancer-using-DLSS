{
 "metadata": {
  "language_info": {
   "codemirror_mode": {
    "name": "ipython",
    "version": 3
   },
   "file_extension": ".py",
   "mimetype": "text/x-python",
   "name": "python",
   "nbconvert_exporter": "python",
   "pygments_lexer": "ipython3",
   "version": "3.9.1"
  },
  "orig_nbformat": 2,
  "kernelspec": {
   "name": "python391jvsc74a57bd0e3107d29f361526c29d218a92ae0a5df403a906cb1ebf18cb5a67f6fc0d0986f",
   "display_name": "Python 3.9.1 64-bit"
  },
  "metadata": {
   "interpreter": {
    "hash": "e3107d29f361526c29d218a92ae0a5df403a906cb1ebf18cb5a67f6fc0d0986f"
   }
  }
 },
 "nbformat": 4,
 "nbformat_minor": 2,
 "cells": [
  {
   "cell_type": "code",
   "execution_count": 1,
   "metadata": {},
   "outputs": [],
   "source": [
    "import cv2"
   ]
  },
  {
   "cell_type": "code",
   "execution_count": 2,
   "metadata": {},
   "outputs": [],
   "source": [
    "from cv2 import dnn_superres"
   ]
  },
  {
   "cell_type": "code",
   "execution_count": 3,
   "metadata": {},
   "outputs": [],
   "source": [
    "sr=dnn_superres.DnnSuperResImpl_create()"
   ]
  },
  {
   "cell_type": "code",
   "execution_count": 4,
   "metadata": {},
   "outputs": [
    {
     "output_type": "stream",
     "name": "stdout",
     "text": [
      "[[[189 178 158]\n  [189 178 158]\n  [190 179 159]\n  ...\n  [231 224 209]\n  [231 224 209]\n  [230 223 208]]\n\n [[189 178 158]\n  [189 178 158]\n  [190 179 159]\n  ...\n  [229 222 207]\n  [228 221 206]\n  [228 221 206]]\n\n [[189 178 158]\n  [190 179 159]\n  [190 179 159]\n  ...\n  [226 219 204]\n  [226 219 204]\n  [225 218 203]]\n\n ...\n\n [[ 71 116 130]\n  [ 72 117 131]\n  [ 74 119 132]\n  ...\n  [167 208 247]\n  [166 207 246]\n  [166 207 246]]\n\n [[ 71 116 130]\n  [ 72 117 131]\n  [ 74 119 132]\n  ...\n  [166 207 246]\n  [165 206 245]\n  [164 205 244]]\n\n [[ 71 116 130]\n  [ 72 117 131]\n  [ 74 119 132]\n  ...\n  [165 206 245]\n  [164 205 244]\n  [163 204 243]]]\n"
     ]
    }
   ],
   "source": [
    "image=cv2.imread('uploads//puppy.jpg')\n",
    "print(image)"
   ]
  },
  {
   "cell_type": "code",
   "execution_count": 5,
   "metadata": {},
   "outputs": [],
   "source": [
    "import os"
   ]
  },
  {
   "cell_type": "code",
   "execution_count": 6,
   "metadata": {},
   "outputs": [
    {
     "output_type": "execute_result",
     "data": {
      "text/plain": [
       "['EDSR_x2.pb',\n",
       " 'EDSR_x3.pb',\n",
       " 'EDSR_x4.pb',\n",
       " 'ESPCN_x2.pb',\n",
       " 'ESPCN_x3.pb',\n",
       " 'ESPCN_x4.pb',\n",
       " 'FSRCNN-small_x2.pb',\n",
       " 'FSRCNN-small_x3.pb',\n",
       " 'FSRCNN-small_x4.pb',\n",
       " 'FSRCNN_x2.pb',\n",
       " 'FSRCNN_x3.pb',\n",
       " 'FSRCNN_x4.pb',\n",
       " 'LapSRN_x2.pb',\n",
       " 'LapSRN_x4.pb',\n",
       " 'LapSRN_x8.pb']"
      ]
     },
     "metadata": {},
     "execution_count": 6
    }
   ],
   "source": [
    "os.listdir('models')"
   ]
  },
  {
   "cell_type": "code",
   "execution_count": 7,
   "metadata": {},
   "outputs": [],
   "source": [
    "path='models/LapSRN_x8.pb'"
   ]
  },
  {
   "cell_type": "code",
   "execution_count": 8,
   "metadata": {},
   "outputs": [],
   "source": [
    "sr.readModel(path)"
   ]
  },
  {
   "cell_type": "code",
   "execution_count": 9,
   "metadata": {},
   "outputs": [],
   "source": [
    "sr.setModel(\"lapsrn\",8)"
   ]
  },
  {
   "cell_type": "code",
   "execution_count": 10,
   "metadata": {},
   "outputs": [],
   "source": [
    "result=sr.upsample(image)"
   ]
  },
  {
   "cell_type": "code",
   "execution_count": 11,
   "metadata": {},
   "outputs": [
    {
     "output_type": "execute_result",
     "data": {
      "text/plain": [
       "True"
      ]
     },
     "metadata": {},
     "execution_count": 11
    }
   ],
   "source": [
    "cv2.imwrite('output_lapsrn_x8.png',result)\n"
   ]
  },
  {
   "cell_type": "code",
   "execution_count": null,
   "metadata": {},
   "outputs": [],
   "source": []
  }
 ]
}